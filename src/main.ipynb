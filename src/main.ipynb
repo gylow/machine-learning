{
 "metadata": {
  "language_info": {
   "codemirror_mode": {
    "name": "ipython",
    "version": 3
   },
   "file_extension": ".py",
   "mimetype": "text/x-python",
   "name": "python",
   "nbconvert_exporter": "python",
   "pygments_lexer": "ipython3",
   "version": "3.8.3-final"
  },
  "orig_nbformat": 2,
  "kernelspec": {
   "name": "python38364bitcndsconda7417c837e53f4d9a8a9603c829ccf602",
   "display_name": "Python 3.8.3 64-bit ('cn_ds': conda)"
  }
 },
 "nbformat": 4,
 "nbformat_minor": 2,
 "cells": [
  {
   "cell_type": "code",
   "execution_count": null,
   "metadata": {},
   "outputs": [],
   "source": [
    "import pandas as pd\n",
    "from data_source import DataSource\n",
    "from visualization import Visualization\n",
    "from preprocessing import Preprocessing \n",
    "from model_training import ModelTraining\n",
    "from model_inference import ModelInference"
   ]
  },
  {
   "cell_type": "code",
   "execution_count": null,
   "metadata": {},
   "outputs": [],
   "source": [
    "### Configuração da base de dados\n",
    "data = DataSource(name_id='id', name_target='target')"
   ]
  },
  {
   "cell_type": "code",
   "execution_count": null,
   "metadata": {
    "tags": []
   },
   "outputs": [],
   "source": [
    "### Cria arquivo para treino\n",
    "data.set_df_train(path_original='../data/estaticos_market.csv')"
   ]
  },
  {
   "cell_type": "code",
   "execution_count": null,
   "metadata": {
    "tags": []
   },
   "outputs": [],
   "source": [
    "### Set target column\n",
    "col_target = pd.read_csv('../data/estaticos_portfolio1.csv', usecols=['id']).id\n",
    "data.set_target_by_index(serie_index=col_target)"
   ]
  },
  {
   "cell_type": "markdown",
   "metadata": {},
   "source": [
    "### Optional manual analise columns. \n",
    "#### Syntax: COLUMN_NAME        TYPE   [FILLNA ENCODE  [DROP_FIRST]] #COMMENTS\n",
    "col_analise = [             \n",
    "    ('fl_matriz',               'cat',  None,   True,   True),\n",
    "    ('de_natureza_juridica',    'cat',  None,   False),\n",
    "    ('sg_uf',                   'cat',  None,   False),\n",
    "    ('natureza_juridica_macro', 'cat',  None,   True,   False),\n",
    "    ('de_ramo',                 'cat',  None,   False),\n",
    "    ('idade_empresa_anos',      'num',  None,   False)\n",
    "]"
   ]
  },
  {
   "cell_type": "code",
   "execution_count": null,
   "metadata": {
    "tags": []
   },
   "outputs": [],
   "source": [
    "### Configura o processamento automático das features\n",
    "pre = Preprocessing(data, max_missing=40., max_variance=2., rfe=None, pca=None, manual_feat=None)"
   ]
  },
  {
   "cell_type": "code",
   "execution_count": null,
   "metadata": {
    "tags": []
   },
   "outputs": [],
   "source": [
    "### Análise de Feature\n",
    "#x_train, y_train = pre.process()\n",
    "#Visualization(x_train).features_corralations()\n",
    "#Visualization(x_train).feature_analise('qt_socios', y=y_train)"
   ]
  },
  {
   "cell_type": "code",
   "execution_count": null,
   "metadata": {
    "tags": []
   },
   "outputs": [],
   "source": [
    "### Define que tipo de modelos vamos testar para a solução\n",
    "model = ModelTraining(pre, regression=False)"
   ]
  },
  {
   "cell_type": "code",
   "execution_count": null,
   "metadata": {
    "tags": []
   },
   "outputs": [],
   "source": [
    "### Executa o preprocessamento escolhe e treina o modelo\n",
    "%time trained_model = model.training()"
   ]
  },
  {
   "cell_type": "code",
   "execution_count": null,
   "metadata": {
    "tags": []
   },
   "outputs": [],
   "source": [
    "### Executa o modelo treinado e gera o resultado\n",
    "%time y_pred = ModelInference(trained_model).predict()"
   ]
  },
  {
   "cell_type": "code",
   "execution_count": null,
   "metadata": {
    "tags": []
   },
   "outputs": [],
   "source": [
    "### Exibição dos leads escolhidos\n",
    "index = data.get_index(is_train_stage=False)\n",
    "df_answer = pd.DataFrame(y_pred, index=index, columns=['target'])\n",
    "df_answer.nlargest(n=100, columns='target')"
   ]
  },
  {
   "cell_type": "markdown",
   "metadata": {},
   "source": [
    "\n"
   ]
  }
 ]
}